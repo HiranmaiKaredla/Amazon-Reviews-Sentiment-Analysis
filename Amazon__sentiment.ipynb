{
  "nbformat": 4,
  "nbformat_minor": 0,
  "metadata": {
    "colab": {
      "name": "Amazon_ sentiment",
      "version": "0.3.2",
      "provenance": [],
      "collapsed_sections": []
    },
    "kernelspec": {
      "name": "python3",
      "display_name": "Python 3"
    },
    "accelerator": "GPU"
  },
  "cells": [
    {
      "cell_type": "code",
      "metadata": {
        "id": "eF3EQR_FARud",
        "colab_type": "code",
        "outputId": "7b87eef4-876a-4bc9-8ffc-95b531c77921",
        "colab": {
          "base_uri": "https://localhost:8080/",
          "height": 124
        }
      },
      "source": [
        "from google.colab import drive\n",
        "drive.mount('/content/gdrive')"
      ],
      "execution_count": 0,
      "outputs": [
        {
          "output_type": "stream",
          "text": [
            "Go to this URL in a browser: https://accounts.google.com/o/oauth2/auth?client_id=947318989803-6bn6qk8qdgf4n4g3pfee6491hc0brc4i.apps.googleusercontent.com&redirect_uri=urn%3Aietf%3Awg%3Aoauth%3A2.0%3Aoob&scope=email%20https%3A%2F%2Fwww.googleapis.com%2Fauth%2Fdocs.test%20https%3A%2F%2Fwww.googleapis.com%2Fauth%2Fdrive%20https%3A%2F%2Fwww.googleapis.com%2Fauth%2Fdrive.photos.readonly%20https%3A%2F%2Fwww.googleapis.com%2Fauth%2Fpeopleapi.readonly&response_type=code\n",
            "\n",
            "Enter your authorization code:\n",
            "··········\n",
            "Mounted at /content/gdrive\n"
          ],
          "name": "stdout"
        }
      ]
    },
    {
      "cell_type": "code",
      "metadata": {
        "id": "6A8yk355H1dg",
        "colab_type": "code",
        "colab": {}
      },
      "source": [
        "import zipfile"
      ],
      "execution_count": 0,
      "outputs": []
    },
    {
      "cell_type": "code",
      "metadata": {
        "id": "AUn24rW1QCPN",
        "colab_type": "code",
        "colab": {}
      },
      "source": [
        "with zipfile.ZipFile(\"gdrive/My Drive/Reviews.csv.zip\",\"r\") as zip_ref:\n",
        "    zip_ref.extractall()"
      ],
      "execution_count": 0,
      "outputs": []
    },
    {
      "cell_type": "code",
      "metadata": {
        "id": "Vx2xpnJzRvMX",
        "colab_type": "code",
        "colab": {}
      },
      "source": [
        "import numpy as np\n",
        "import pandas as pd"
      ],
      "execution_count": 0,
      "outputs": []
    },
    {
      "cell_type": "code",
      "metadata": {
        "id": "bX4vhvlQSA3H",
        "colab_type": "code",
        "colab": {}
      },
      "source": [
        "df= pd.read_csv(\"Reviews.csv\")"
      ],
      "execution_count": 0,
      "outputs": []
    },
    {
      "cell_type": "code",
      "metadata": {
        "id": "G3Nj33eVxHCw",
        "colab_type": "code",
        "outputId": "f72c4a41-74e6-48b7-d037-e4ed82fda451",
        "colab": {
          "base_uri": "https://localhost:8080/",
          "height": 34
        }
      },
      "source": [
        "df.shape"
      ],
      "execution_count": 0,
      "outputs": [
        {
          "output_type": "execute_result",
          "data": {
            "text/plain": [
              "(568454, 10)"
            ]
          },
          "metadata": {
            "tags": []
          },
          "execution_count": 3
        }
      ]
    },
    {
      "cell_type": "code",
      "metadata": {
        "id": "g0Z_sflKx4Uo",
        "colab_type": "code",
        "colab": {}
      },
      "source": [
        "df.sample(frac=1)"
      ],
      "execution_count": 0,
      "outputs": []
    },
    {
      "cell_type": "code",
      "metadata": {
        "id": "0uXY-uaNxl9s",
        "colab_type": "code",
        "colab": {}
      },
      "source": [
        "data_set=df[:100000]"
      ],
      "execution_count": 0,
      "outputs": []
    },
    {
      "cell_type": "code",
      "metadata": {
        "id": "Na5fGuSwSNk_",
        "colab_type": "code",
        "outputId": "713796b5-f397-46c4-f903-61c30e3969e3",
        "colab": {
          "base_uri": "https://localhost:8080/",
          "height": 678
        }
      },
      "source": [
        "data_set.head()"
      ],
      "execution_count": 0,
      "outputs": [
        {
          "output_type": "execute_result",
          "data": {
            "text/html": [
              "<div>\n",
              "<style scoped>\n",
              "    .dataframe tbody tr th:only-of-type {\n",
              "        vertical-align: middle;\n",
              "    }\n",
              "\n",
              "    .dataframe tbody tr th {\n",
              "        vertical-align: top;\n",
              "    }\n",
              "\n",
              "    .dataframe thead th {\n",
              "        text-align: right;\n",
              "    }\n",
              "</style>\n",
              "<table border=\"1\" class=\"dataframe\">\n",
              "  <thead>\n",
              "    <tr style=\"text-align: right;\">\n",
              "      <th></th>\n",
              "      <th>Id</th>\n",
              "      <th>ProductId</th>\n",
              "      <th>UserId</th>\n",
              "      <th>ProfileName</th>\n",
              "      <th>HelpfulnessNumerator</th>\n",
              "      <th>HelpfulnessDenominator</th>\n",
              "      <th>Score</th>\n",
              "      <th>Time</th>\n",
              "      <th>Summary</th>\n",
              "      <th>Text</th>\n",
              "    </tr>\n",
              "  </thead>\n",
              "  <tbody>\n",
              "    <tr>\n",
              "      <th>0</th>\n",
              "      <td>1</td>\n",
              "      <td>B001E4KFG0</td>\n",
              "      <td>A3SGXH7AUHU8GW</td>\n",
              "      <td>delmartian</td>\n",
              "      <td>1</td>\n",
              "      <td>1</td>\n",
              "      <td>5</td>\n",
              "      <td>1303862400</td>\n",
              "      <td>Good Quality Dog Food</td>\n",
              "      <td>I have bought several of the Vitality canned d...</td>\n",
              "    </tr>\n",
              "    <tr>\n",
              "      <th>1</th>\n",
              "      <td>2</td>\n",
              "      <td>B00813GRG4</td>\n",
              "      <td>A1D87F6ZCVE5NK</td>\n",
              "      <td>dll pa</td>\n",
              "      <td>0</td>\n",
              "      <td>0</td>\n",
              "      <td>1</td>\n",
              "      <td>1346976000</td>\n",
              "      <td>Not as Advertised</td>\n",
              "      <td>Product arrived labeled as Jumbo Salted Peanut...</td>\n",
              "    </tr>\n",
              "    <tr>\n",
              "      <th>2</th>\n",
              "      <td>3</td>\n",
              "      <td>B000LQOCH0</td>\n",
              "      <td>ABXLMWJIXXAIN</td>\n",
              "      <td>Natalia Corres \"Natalia Corres\"</td>\n",
              "      <td>1</td>\n",
              "      <td>1</td>\n",
              "      <td>4</td>\n",
              "      <td>1219017600</td>\n",
              "      <td>\"Delight\" says it all</td>\n",
              "      <td>This is a confection that has been around a fe...</td>\n",
              "    </tr>\n",
              "    <tr>\n",
              "      <th>3</th>\n",
              "      <td>4</td>\n",
              "      <td>B000UA0QIQ</td>\n",
              "      <td>A395BORC6FGVXV</td>\n",
              "      <td>Karl</td>\n",
              "      <td>3</td>\n",
              "      <td>3</td>\n",
              "      <td>2</td>\n",
              "      <td>1307923200</td>\n",
              "      <td>Cough Medicine</td>\n",
              "      <td>If you are looking for the secret ingredient i...</td>\n",
              "    </tr>\n",
              "    <tr>\n",
              "      <th>4</th>\n",
              "      <td>5</td>\n",
              "      <td>B006K2ZZ7K</td>\n",
              "      <td>A1UQRSCLF8GW1T</td>\n",
              "      <td>Michael D. Bigham \"M. Wassir\"</td>\n",
              "      <td>0</td>\n",
              "      <td>0</td>\n",
              "      <td>5</td>\n",
              "      <td>1350777600</td>\n",
              "      <td>Great taffy</td>\n",
              "      <td>Great taffy at a great price.  There was a wid...</td>\n",
              "    </tr>\n",
              "  </tbody>\n",
              "</table>\n",
              "</div>"
            ],
            "text/plain": [
              "   Id  ...                                               Text\n",
              "0   1  ...  I have bought several of the Vitality canned d...\n",
              "1   2  ...  Product arrived labeled as Jumbo Salted Peanut...\n",
              "2   3  ...  This is a confection that has been around a fe...\n",
              "3   4  ...  If you are looking for the secret ingredient i...\n",
              "4   5  ...  Great taffy at a great price.  There was a wid...\n",
              "\n",
              "[5 rows x 10 columns]"
            ]
          },
          "metadata": {
            "tags": []
          },
          "execution_count": 5
        }
      ]
    },
    {
      "cell_type": "code",
      "metadata": {
        "id": "tsziC2hNTWGo",
        "colab_type": "code",
        "outputId": "092f49d0-a982-41bf-cbb1-98c052470636",
        "colab": {
          "base_uri": "https://localhost:8080/",
          "height": 124
        }
      },
      "source": [
        "data_set.drop(['Id','ProductId','UserId','HelpfulnessNumerator','HelpfulnessDenominator','ProfileName','Time'], axis=1, inplace=True)"
      ],
      "execution_count": 0,
      "outputs": [
        {
          "output_type": "stream",
          "text": [
            "/usr/local/lib/python3.6/dist-packages/pandas/core/frame.py:3940: SettingWithCopyWarning: \n",
            "A value is trying to be set on a copy of a slice from a DataFrame\n",
            "\n",
            "See the caveats in the documentation: http://pandas.pydata.org/pandas-docs/stable/indexing.html#indexing-view-versus-copy\n",
            "  errors=errors)\n"
          ],
          "name": "stderr"
        }
      ]
    },
    {
      "cell_type": "code",
      "metadata": {
        "id": "bQ7SLFhuWg4f",
        "colab_type": "code",
        "outputId": "9a9f1345-45fc-4943-ceb4-3d7163949364",
        "colab": {
          "base_uri": "https://localhost:8080/",
          "height": 206
        }
      },
      "source": [
        "data_set.head()"
      ],
      "execution_count": 0,
      "outputs": [
        {
          "output_type": "execute_result",
          "data": {
            "text/html": [
              "<div>\n",
              "<style scoped>\n",
              "    .dataframe tbody tr th:only-of-type {\n",
              "        vertical-align: middle;\n",
              "    }\n",
              "\n",
              "    .dataframe tbody tr th {\n",
              "        vertical-align: top;\n",
              "    }\n",
              "\n",
              "    .dataframe thead th {\n",
              "        text-align: right;\n",
              "    }\n",
              "</style>\n",
              "<table border=\"1\" class=\"dataframe\">\n",
              "  <thead>\n",
              "    <tr style=\"text-align: right;\">\n",
              "      <th></th>\n",
              "      <th>Score</th>\n",
              "      <th>Summary</th>\n",
              "      <th>Text</th>\n",
              "    </tr>\n",
              "  </thead>\n",
              "  <tbody>\n",
              "    <tr>\n",
              "      <th>0</th>\n",
              "      <td>5</td>\n",
              "      <td>Good Quality Dog Food</td>\n",
              "      <td>I have bought several of the Vitality canned d...</td>\n",
              "    </tr>\n",
              "    <tr>\n",
              "      <th>1</th>\n",
              "      <td>1</td>\n",
              "      <td>Not as Advertised</td>\n",
              "      <td>Product arrived labeled as Jumbo Salted Peanut...</td>\n",
              "    </tr>\n",
              "    <tr>\n",
              "      <th>2</th>\n",
              "      <td>4</td>\n",
              "      <td>\"Delight\" says it all</td>\n",
              "      <td>This is a confection that has been around a fe...</td>\n",
              "    </tr>\n",
              "    <tr>\n",
              "      <th>3</th>\n",
              "      <td>2</td>\n",
              "      <td>Cough Medicine</td>\n",
              "      <td>If you are looking for the secret ingredient i...</td>\n",
              "    </tr>\n",
              "    <tr>\n",
              "      <th>4</th>\n",
              "      <td>5</td>\n",
              "      <td>Great taffy</td>\n",
              "      <td>Great taffy at a great price.  There was a wid...</td>\n",
              "    </tr>\n",
              "  </tbody>\n",
              "</table>\n",
              "</div>"
            ],
            "text/plain": [
              "   Score  ...                                               Text\n",
              "0      5  ...  I have bought several of the Vitality canned d...\n",
              "1      1  ...  Product arrived labeled as Jumbo Salted Peanut...\n",
              "2      4  ...  This is a confection that has been around a fe...\n",
              "3      2  ...  If you are looking for the secret ingredient i...\n",
              "4      5  ...  Great taffy at a great price.  There was a wid...\n",
              "\n",
              "[5 rows x 3 columns]"
            ]
          },
          "metadata": {
            "tags": []
          },
          "execution_count": 9
        }
      ]
    },
    {
      "cell_type": "code",
      "metadata": {
        "id": "dbkXvDQ1XbE4",
        "colab_type": "code",
        "outputId": "6ef4db7e-5f4c-4a11-ddb0-799c5d2c2036",
        "colab": {
          "base_uri": "https://localhost:8080/",
          "height": 191
        }
      },
      "source": [
        "data_set.info()"
      ],
      "execution_count": 0,
      "outputs": [
        {
          "output_type": "stream",
          "text": [
            "<class 'pandas.core.frame.DataFrame'>\n",
            "RangeIndex: 568454 entries, 0 to 568453\n",
            "Data columns (total 5 columns):\n",
            "HelpfulnessNumerator      568454 non-null int64\n",
            "HelpfulnessDenominator    568454 non-null int64\n",
            "Score                     568454 non-null int64\n",
            "Summary                   568427 non-null object\n",
            "Text                      568454 non-null object\n",
            "dtypes: int64(3), object(2)\n",
            "memory usage: 21.7+ MB\n"
          ],
          "name": "stdout"
        }
      ]
    },
    {
      "cell_type": "code",
      "metadata": {
        "id": "GAIfopbIXhoj",
        "colab_type": "code",
        "outputId": "948251c7-baf9-4be1-ccc5-7673a70257bf",
        "colab": {
          "base_uri": "https://localhost:8080/",
          "height": 86
        }
      },
      "source": [
        "data_set.isnull().sum()"
      ],
      "execution_count": 0,
      "outputs": [
        {
          "output_type": "execute_result",
          "data": {
            "text/plain": [
              "Score      0\n",
              "Summary    2\n",
              "Text       0\n",
              "dtype: int64"
            ]
          },
          "metadata": {
            "tags": []
          },
          "execution_count": 9
        }
      ]
    },
    {
      "cell_type": "code",
      "metadata": {
        "id": "XTgY9u_lf6h_",
        "colab_type": "code",
        "outputId": "e206f12c-9216-4f9b-a40c-d0e6491c68dc",
        "colab": {
          "base_uri": "https://localhost:8080/",
          "height": 124
        }
      },
      "source": [
        "data_set.dropna(axis=0,how='any',inplace=True)"
      ],
      "execution_count": 0,
      "outputs": [
        {
          "output_type": "stream",
          "text": [
            "/usr/local/lib/python3.6/dist-packages/ipykernel_launcher.py:1: SettingWithCopyWarning: \n",
            "A value is trying to be set on a copy of a slice from a DataFrame\n",
            "\n",
            "See the caveats in the documentation: http://pandas.pydata.org/pandas-docs/stable/indexing.html#indexing-view-versus-copy\n",
            "  \"\"\"Entry point for launching an IPython kernel.\n"
          ],
          "name": "stderr"
        }
      ]
    },
    {
      "cell_type": "code",
      "metadata": {
        "id": "LyizMmEoj-2i",
        "colab_type": "code",
        "outputId": "510c7a9a-4845-4709-e335-781b8a8a86cc",
        "colab": {
          "base_uri": "https://localhost:8080/",
          "height": 191
        }
      },
      "source": [
        "data_set.info()"
      ],
      "execution_count": 0,
      "outputs": [
        {
          "output_type": "stream",
          "text": [
            "<class 'pandas.core.frame.DataFrame'>\n",
            "Int64Index: 568427 entries, 0 to 568453\n",
            "Data columns (total 5 columns):\n",
            "HelpfulnessNumerator      568427 non-null int64\n",
            "HelpfulnessDenominator    568427 non-null int64\n",
            "Score                     568427 non-null int64\n",
            "Summary                   568427 non-null object\n",
            "Text                      568427 non-null object\n",
            "dtypes: int64(3), object(2)\n",
            "memory usage: 26.0+ MB\n"
          ],
          "name": "stdout"
        }
      ]
    },
    {
      "cell_type": "code",
      "metadata": {
        "id": "Byz02kddkD-k",
        "colab_type": "code",
        "outputId": "ba246c92-e834-4e9e-af8c-9de75f273592",
        "colab": {
          "base_uri": "https://localhost:8080/",
          "height": 121
        }
      },
      "source": [
        "data_set.isnull().sum()"
      ],
      "execution_count": 0,
      "outputs": [
        {
          "output_type": "execute_result",
          "data": {
            "text/plain": [
              "HelpfulnessNumerator      0\n",
              "HelpfulnessDenominator    0\n",
              "Score                     0\n",
              "Summary                   0\n",
              "Text                      0\n",
              "dtype: int64"
            ]
          },
          "metadata": {
            "tags": []
          },
          "execution_count": 6
        }
      ]
    },
    {
      "cell_type": "code",
      "metadata": {
        "id": "ihoUzAWjkjj_",
        "colab_type": "code",
        "outputId": "b56bed65-a6f7-48cf-9114-56244d374f6b",
        "colab": {
          "base_uri": "https://localhost:8080/",
          "height": 34
        }
      },
      "source": [
        "data_set['Score'].unique()"
      ],
      "execution_count": 0,
      "outputs": [
        {
          "output_type": "execute_result",
          "data": {
            "text/plain": [
              "array([5, 1, 4, 2, 3])"
            ]
          },
          "metadata": {
            "tags": []
          },
          "execution_count": 14
        }
      ]
    },
    {
      "cell_type": "code",
      "metadata": {
        "id": "sVxtzDrOBXEW",
        "colab_type": "code",
        "outputId": "5b7e1343-08fa-460a-c529-e4cfd4e96ef9",
        "colab": {
          "base_uri": "https://localhost:8080/",
          "height": 34
        }
      },
      "source": [
        "l=[]\n",
        "for i in data_set['Text']:\n",
        "  l.append(len(i.split()))\n",
        "\n",
        "max(l)"
      ],
      "execution_count": 0,
      "outputs": [
        {
          "output_type": "execute_result",
          "data": {
            "text/plain": [
              "2520"
            ]
          },
          "metadata": {
            "tags": []
          },
          "execution_count": 24
        }
      ]
    },
    {
      "cell_type": "code",
      "metadata": {
        "id": "IcJ47vifouAI",
        "colab_type": "code",
        "colab": {}
      },
      "source": [
        "#data_set['Helpfulness']= data_set['HelpfulnessNumerator'] + data_set['HelpfulnessDenominator']"
      ],
      "execution_count": 0,
      "outputs": []
    },
    {
      "cell_type": "code",
      "metadata": {
        "id": "kVf2VnpmpuEF",
        "colab_type": "code",
        "colab": {}
      },
      "source": [
        "data_set.head()"
      ],
      "execution_count": 0,
      "outputs": []
    },
    {
      "cell_type": "code",
      "metadata": {
        "id": "PFuvYCmrp6_n",
        "colab_type": "code",
        "colab": {}
      },
      "source": [
        "data_set[data_set['Score']==3]"
      ],
      "execution_count": 0,
      "outputs": []
    },
    {
      "cell_type": "code",
      "metadata": {
        "id": "Z0S1zJ_KItgC",
        "colab_type": "code",
        "colab": {}
      },
      "source": [
        "def polarity(x):\n",
        "    if x < 3:\n",
        "        return 'Negative'\n",
        "    if x==3:\n",
        "        return 'Neutral'\n",
        "    else:\n",
        "        return 'Positive'"
      ],
      "execution_count": 0,
      "outputs": []
    },
    {
      "cell_type": "code",
      "metadata": {
        "id": "S5b9ApjLqMI2",
        "colab_type": "code",
        "outputId": "ede8bdb7-4613-4c0d-bd27-fbe36e5b5122",
        "colab": {
          "base_uri": "https://localhost:8080/",
          "height": 141
        }
      },
      "source": [
        "data_set['Sentiment']=data_set['Score'].map(polarity)"
      ],
      "execution_count": 0,
      "outputs": [
        {
          "output_type": "stream",
          "text": [
            "/usr/local/lib/python3.6/dist-packages/ipykernel_launcher.py:1: SettingWithCopyWarning: \n",
            "A value is trying to be set on a copy of a slice from a DataFrame.\n",
            "Try using .loc[row_indexer,col_indexer] = value instead\n",
            "\n",
            "See the caveats in the documentation: http://pandas.pydata.org/pandas-docs/stable/indexing.html#indexing-view-versus-copy\n",
            "  \"\"\"Entry point for launching an IPython kernel.\n"
          ],
          "name": "stderr"
        }
      ]
    },
    {
      "cell_type": "code",
      "metadata": {
        "id": "RtYMtvGYJHps",
        "colab_type": "code",
        "colab": {}
      },
      "source": [
        "data_set[data_set['Score']==3]"
      ],
      "execution_count": 0,
      "outputs": []
    },
    {
      "cell_type": "code",
      "metadata": {
        "id": "rF9cO8QOJMnA",
        "colab_type": "code",
        "outputId": "61c123f9-093d-42af-c428-e176d9fa48df",
        "colab": {
          "base_uri": "https://localhost:8080/",
          "height": 52
        }
      },
      "source": [
        "import nltk\n",
        "nltk.download('stopwords')\n",
        "from nltk.corpus import stopwords\n",
        "eng_stopwords = set(stopwords.words(\"english\"))\n"
      ],
      "execution_count": 0,
      "outputs": [
        {
          "output_type": "stream",
          "text": [
            "[nltk_data] Downloading package stopwords to /root/nltk_data...\n",
            "[nltk_data]   Unzipping corpora/stopwords.zip.\n"
          ],
          "name": "stdout"
        }
      ]
    },
    {
      "cell_type": "code",
      "metadata": {
        "id": "BIuWW2auBYSV",
        "colab_type": "code",
        "outputId": "04ea6a29-2ccc-465a-cb23-d7cad1c72ff4",
        "colab": {
          "base_uri": "https://localhost:8080/",
          "height": 141
        }
      },
      "source": [
        "data_set['Review'] = data_set['Text'].str.replace('[^\\w\\s]','')"
      ],
      "execution_count": 0,
      "outputs": [
        {
          "output_type": "stream",
          "text": [
            "/usr/local/lib/python3.6/dist-packages/ipykernel_launcher.py:1: SettingWithCopyWarning: \n",
            "A value is trying to be set on a copy of a slice from a DataFrame.\n",
            "Try using .loc[row_indexer,col_indexer] = value instead\n",
            "\n",
            "See the caveats in the documentation: http://pandas.pydata.org/pandas-docs/stable/indexing.html#indexing-view-versus-copy\n",
            "  \"\"\"Entry point for launching an IPython kernel.\n"
          ],
          "name": "stderr"
        }
      ]
    },
    {
      "cell_type": "code",
      "metadata": {
        "id": "hIpT_ve8ccQ1",
        "colab_type": "code",
        "colab": {}
      },
      "source": [
        "data_set.head()"
      ],
      "execution_count": 0,
      "outputs": []
    },
    {
      "cell_type": "code",
      "metadata": {
        "id": "xQlFCVFKNB4u",
        "colab_type": "code",
        "outputId": "169c7da9-71dd-4ad3-edd8-9fde96412d13",
        "colab": {
          "base_uri": "https://localhost:8080/",
          "height": 141
        }
      },
      "source": [
        "data_set['Review']=data_set['Review'].apply(lambda x:[item for item in x.split() if item not in eng_stopwords])"
      ],
      "execution_count": 0,
      "outputs": [
        {
          "output_type": "stream",
          "text": [
            "/usr/local/lib/python3.6/dist-packages/ipykernel_launcher.py:1: SettingWithCopyWarning: \n",
            "A value is trying to be set on a copy of a slice from a DataFrame.\n",
            "Try using .loc[row_indexer,col_indexer] = value instead\n",
            "\n",
            "See the caveats in the documentation: http://pandas.pydata.org/pandas-docs/stable/indexing.html#indexing-view-versus-copy\n",
            "  \"\"\"Entry point for launching an IPython kernel.\n"
          ],
          "name": "stderr"
        }
      ]
    },
    {
      "cell_type": "code",
      "metadata": {
        "id": "V6sI5xhUcjHa",
        "colab_type": "code",
        "colab": {}
      },
      "source": [
        "data_set.head()"
      ],
      "execution_count": 0,
      "outputs": []
    },
    {
      "cell_type": "code",
      "metadata": {
        "id": "r6LYLvqkATsW",
        "colab_type": "code",
        "outputId": "9a7bbf6f-f5f2-422c-f937-bad56ff2955e",
        "colab": {
          "base_uri": "https://localhost:8080/",
          "height": 69
        }
      },
      "source": [
        "nltk.download('wordnet')"
      ],
      "execution_count": 0,
      "outputs": [
        {
          "output_type": "stream",
          "text": [
            "[nltk_data] Downloading package wordnet to /root/nltk_data...\n",
            "[nltk_data]   Unzipping corpora/wordnet.zip.\n"
          ],
          "name": "stdout"
        },
        {
          "output_type": "execute_result",
          "data": {
            "text/plain": [
              "True"
            ]
          },
          "metadata": {
            "tags": []
          },
          "execution_count": 19
        }
      ]
    },
    {
      "cell_type": "code",
      "metadata": {
        "id": "zbZl0JudAnul",
        "colab_type": "code",
        "colab": {}
      },
      "source": [
        "from nltk.stem import WordNetLemmatizer"
      ],
      "execution_count": 0,
      "outputs": []
    },
    {
      "cell_type": "code",
      "metadata": {
        "id": "kolOEF5tgMo8",
        "colab_type": "code",
        "colab": {}
      },
      "source": [
        "\n",
        "\n",
        "def preprocess_data(X):\n",
        "    preprocessed_data=[]\n",
        "    lemma = WordNetLemmatizer()\n",
        "    for text in X:\n",
        "        #print(text)\n",
        "        text = text.lower()\n",
        "        #text = text.translate(trans_punc)\n",
        "        text = [lemma.lemmatize(word) for word in text.split()]\n",
        "        text = [x for x in text if not any(c.isdigit() for c in x)]\n",
        "        preprocessed_data.append(' '.join(text))\n",
        "        #print(text)\n",
        "\n",
        "    return preprocessed_data"
      ],
      "execution_count": 0,
      "outputs": []
    },
    {
      "cell_type": "code",
      "metadata": {
        "id": "4Nh6x_F0gqD4",
        "colab_type": "code",
        "outputId": "b755b29d-16f9-4ae2-bbe1-fb6d529279bf",
        "colab": {
          "base_uri": "https://localhost:8080/",
          "height": 141
        }
      },
      "source": [
        "data_set['lem_Review']=data_set['Review'].apply(preprocess_data)"
      ],
      "execution_count": 0,
      "outputs": [
        {
          "output_type": "stream",
          "text": [
            "/usr/local/lib/python3.6/dist-packages/ipykernel_launcher.py:1: SettingWithCopyWarning: \n",
            "A value is trying to be set on a copy of a slice from a DataFrame.\n",
            "Try using .loc[row_indexer,col_indexer] = value instead\n",
            "\n",
            "See the caveats in the documentation: http://pandas.pydata.org/pandas-docs/stable/indexing.html#indexing-view-versus-copy\n",
            "  \"\"\"Entry point for launching an IPython kernel.\n"
          ],
          "name": "stderr"
        }
      ]
    },
    {
      "cell_type": "code",
      "metadata": {
        "id": "zT5s6T5WjOcr",
        "colab_type": "code",
        "outputId": "bd84a63e-9a28-4ee3-e8c7-6b7e1d8f461c",
        "colab": {
          "base_uri": "https://localhost:8080/",
          "height": 34
        }
      },
      "source": [
        "#data_set['lem_Review']\n",
        "l=[]\n",
        "for i in data_set['lem_Review']:\n",
        "  l.append(len(i))\n",
        "  \n",
        "max(l)\n"
      ],
      "execution_count": 0,
      "outputs": [
        {
          "output_type": "execute_result",
          "data": {
            "text/plain": [
              "1665"
            ]
          },
          "metadata": {
            "tags": []
          },
          "execution_count": 29
        }
      ]
    },
    {
      "cell_type": "code",
      "metadata": {
        "id": "lzRlrvxVDdU1",
        "colab_type": "code",
        "colab": {}
      },
      "source": [
        "ser=pd.Series(l)"
      ],
      "execution_count": 0,
      "outputs": []
    },
    {
      "cell_type": "code",
      "metadata": {
        "id": "hBfYzgcODqPR",
        "colab_type": "code",
        "outputId": "e86d0707-1618-43e2-a984-83e1ebb7f358",
        "colab": {
          "base_uri": "https://localhost:8080/",
          "height": 173
        }
      },
      "source": [
        "ser.describe()"
      ],
      "execution_count": 0,
      "outputs": [
        {
          "output_type": "execute_result",
          "data": {
            "text/plain": [
              "count    99998.000000\n",
              "mean        47.619212\n",
              "std         47.096945\n",
              "min          5.000000\n",
              "25%         20.000000\n",
              "50%         33.000000\n",
              "75%         58.000000\n",
              "max       1665.000000\n",
              "dtype: float64"
            ]
          },
          "metadata": {
            "tags": []
          },
          "execution_count": 31
        }
      ]
    },
    {
      "cell_type": "code",
      "metadata": {
        "id": "fulWMJmCkfPJ",
        "colab_type": "code",
        "outputId": "f29cbd8f-3f28-4c42-f6f0-1cbb65d1e9ad",
        "colab": {
          "base_uri": "https://localhost:8080/",
          "height": 34
        }
      },
      "source": [
        "nltk.stem.WordNetLemmatizer().lemmatize('buying')"
      ],
      "execution_count": 0,
      "outputs": [
        {
          "output_type": "execute_result",
          "data": {
            "text/plain": [
              "'buying'"
            ]
          },
          "metadata": {
            "tags": []
          },
          "execution_count": 32
        }
      ]
    },
    {
      "cell_type": "code",
      "metadata": {
        "id": "ByMu_WYzktkt",
        "colab_type": "code",
        "outputId": "318a8be7-3812-4170-f480-3535787c49f7",
        "colab": {
          "base_uri": "https://localhost:8080/",
          "height": 141
        }
      },
      "source": [
        "data_set['Review']=data_set['lem_Review'].apply(lambda x: \" \".join(x))"
      ],
      "execution_count": 0,
      "outputs": [
        {
          "output_type": "stream",
          "text": [
            "/usr/local/lib/python3.6/dist-packages/ipykernel_launcher.py:1: SettingWithCopyWarning: \n",
            "A value is trying to be set on a copy of a slice from a DataFrame.\n",
            "Try using .loc[row_indexer,col_indexer] = value instead\n",
            "\n",
            "See the caveats in the documentation: http://pandas.pydata.org/pandas-docs/stable/indexing.html#indexing-view-versus-copy\n",
            "  \"\"\"Entry point for launching an IPython kernel.\n"
          ],
          "name": "stderr"
        }
      ]
    },
    {
      "cell_type": "code",
      "metadata": {
        "id": "IZdsL34ml1bb",
        "colab_type": "code",
        "colab": {}
      },
      "source": [
        "#data_set['Len_review']=data_set['lem_Review'].apply(lambda x: len(x))"
      ],
      "execution_count": 0,
      "outputs": []
    },
    {
      "cell_type": "code",
      "metadata": {
        "id": "Be_aOVr2mYgg",
        "colab_type": "code",
        "outputId": "7247c544-3fe2-4454-bdfa-4cee30a3f313",
        "colab": {
          "base_uri": "https://localhost:8080/",
          "height": 34
        }
      },
      "source": [
        "data_set['Review'].nunique()"
      ],
      "execution_count": 0,
      "outputs": [
        {
          "output_type": "execute_result",
          "data": {
            "text/plain": [
              "393030"
            ]
          },
          "metadata": {
            "tags": []
          },
          "execution_count": 41
        }
      ]
    },
    {
      "cell_type": "code",
      "metadata": {
        "id": "-IZ7yy2ckthG",
        "colab_type": "code",
        "outputId": "754eb9fb-11ec-4767-cfcd-0b219e26b58c",
        "colab": {
          "base_uri": "https://localhost:8080/",
          "height": 34
        }
      },
      "source": [
        "import keras\n",
        "import tensorflow as tf\n",
        "from keras.preprocessing.text import Tokenizer\n",
        "from keras.preprocessing import sequence\n",
        "from keras.models import Sequential\n",
        "from keras.layers import Dense, Embedding\n",
        "from keras.layers import LSTM\n",
        "from keras.regularizers import L1L2\n",
        "\n",
        "\n",
        "from sklearn.feature_extraction.text import TfidfVectorizer\n",
        "from sklearn.model_selection import train_test_split\n",
        "from sklearn.metrics import mean_absolute_error\n"
      ],
      "execution_count": 0,
      "outputs": [
        {
          "output_type": "stream",
          "text": [
            "Using TensorFlow backend.\n"
          ],
          "name": "stderr"
        }
      ]
    },
    {
      "cell_type": "code",
      "metadata": {
        "id": "uZGKK1dEktc0",
        "colab_type": "code",
        "colab": {}
      },
      "source": [
        "token= Tokenizer()\n",
        "token.fit_on_texts(data_set['Review'])\n",
        "encoded_lines = token.texts_to_sequences(data_set['Review'])"
      ],
      "execution_count": 0,
      "outputs": []
    },
    {
      "cell_type": "code",
      "metadata": {
        "id": "IR1qCPNeowPb",
        "colab_type": "code",
        "colab": {}
      },
      "source": [
        "number_of_words = len(token.word_index) + 1\n",
        "Review_max_length_of_input = 100\n",
        "embedding_vector_length = 128"
      ],
      "execution_count": 0,
      "outputs": []
    },
    {
      "cell_type": "code",
      "metadata": {
        "id": "GcOAnpcEtgJ5",
        "colab_type": "code",
        "colab": {}
      },
      "source": [
        "from sklearn.preprocessing import LabelEncoder\n",
        "from keras.utils import np_utils"
      ],
      "execution_count": 0,
      "outputs": []
    },
    {
      "cell_type": "code",
      "metadata": {
        "id": "lm7B_kiqp1tx",
        "colab_type": "code",
        "colab": {}
      },
      "source": [
        "target=data_set['Sentiment']\n",
        "encoder = LabelEncoder()\n",
        "encoder.fit(target)\n",
        "encoded_Y = encoder.transform(target)\n",
        "# convert integers to dummy variables (i.e. one hot encoded)\n",
        "dummy_y = np_utils.to_categorical(encoded_Y)"
      ],
      "execution_count": 0,
      "outputs": []
    },
    {
      "cell_type": "code",
      "metadata": {
        "id": "ChKXN2deo0QQ",
        "colab_type": "code",
        "colab": {}
      },
      "source": [
        "data = sequence.pad_sequences(encoded_lines, Review_max_length_of_input)\n",
        "X_train, X_test, y_train, y_test = train_test_split(data,dummy_y, test_size=0.2, random_state=13)"
      ],
      "execution_count": 0,
      "outputs": []
    },
    {
      "cell_type": "code",
      "metadata": {
        "id": "xF1wlfIwqCti",
        "colab_type": "code",
        "colab": {}
      },
      "source": [
        "X_train, X_valid, y_train, y_valid = train_test_split(X_train,y_train, test_size=0.2, random_state=13)"
      ],
      "execution_count": 0,
      "outputs": []
    },
    {
      "cell_type": "code",
      "metadata": {
        "id": "ZFvyTnKSPIBV",
        "colab_type": "code",
        "outputId": "aaee459b-f1f9-46ef-9bac-299f303da398",
        "colab": {
          "base_uri": "https://localhost:8080/",
          "height": 34
        }
      },
      "source": [
        "X_train.shape, X_valid.shape, X_test.shape"
      ],
      "execution_count": 0,
      "outputs": [
        {
          "output_type": "execute_result",
          "data": {
            "text/plain": [
              "((63998, 100), (16000, 100), (20000, 100))"
            ]
          },
          "metadata": {
            "tags": []
          },
          "execution_count": 53
        }
      ]
    },
    {
      "cell_type": "code",
      "metadata": {
        "id": "IEalMt9OPV0X",
        "colab_type": "code",
        "outputId": "2d482218-96aa-4738-fa8c-c70f1b7448cf",
        "colab": {
          "base_uri": "https://localhost:8080/",
          "height": 34
        }
      },
      "source": [
        "y_train.shape , y_valid.shape , y_test.shape"
      ],
      "execution_count": 0,
      "outputs": [
        {
          "output_type": "execute_result",
          "data": {
            "text/plain": [
              "((63998, 3), (16000, 3), (20000, 3))"
            ]
          },
          "metadata": {
            "tags": []
          },
          "execution_count": 54
        }
      ]
    },
    {
      "cell_type": "code",
      "metadata": {
        "id": "nUB1iineqTR9",
        "colab_type": "code",
        "colab": {}
      },
      "source": [
        "adagrad=keras.optimizers.Adagrad(lr=0.01, epsilon=None, decay=0.0)"
      ],
      "execution_count": 0,
      "outputs": []
    },
    {
      "cell_type": "code",
      "metadata": {
        "id": "gQS8YjYRrAj8",
        "colab_type": "code",
        "outputId": "4e32b598-7b5f-4142-fb50-2dcbb35a2f0b",
        "colab": {
          "base_uri": "https://localhost:8080/",
          "height": 312
        }
      },
      "source": [
        "model = Sequential()\n",
        "model.add(Embedding(number_of_words, embedding_vector_length, input_length = Review_max_length_of_input))\n",
        "model.add(LSTM(100, dropout=0.2, recurrent_dropout=0.2, return_sequences=True))\n",
        "model.add(LSTM(100, dropout=0.2, recurrent_dropout=0.2, return_sequences=True))\n",
        "model.add(LSTM(50))\n",
        "model.add(Dense(3, activation = 'softmax'))\n",
        "model.compile(loss='categorical_crossentropy', optimizer= adagrad, metrics=['accuracy'])\n",
        "model.summary()"
      ],
      "execution_count": 0,
      "outputs": [
        {
          "output_type": "stream",
          "text": [
            "_________________________________________________________________\n",
            "Layer (type)                 Output Shape              Param #   \n",
            "=================================================================\n",
            "embedding_2 (Embedding)      (None, 100, 128)          10339072  \n",
            "_________________________________________________________________\n",
            "lstm_4 (LSTM)                (None, 100, 100)          91600     \n",
            "_________________________________________________________________\n",
            "lstm_5 (LSTM)                (None, 100, 100)          80400     \n",
            "_________________________________________________________________\n",
            "lstm_6 (LSTM)                (None, 50)                30200     \n",
            "_________________________________________________________________\n",
            "dense_2 (Dense)              (None, 3)                 153       \n",
            "=================================================================\n",
            "Total params: 10,541,425\n",
            "Trainable params: 10,541,425\n",
            "Non-trainable params: 0\n",
            "_________________________________________________________________\n"
          ],
          "name": "stdout"
        }
      ]
    },
    {
      "cell_type": "code",
      "metadata": {
        "id": "ojxwIruqsa1d",
        "colab_type": "code",
        "outputId": "3651d8e7-32dc-448c-9ed9-b8c1c6f83250",
        "colab": {
          "base_uri": "https://localhost:8080/",
          "height": 766
        }
      },
      "source": [
        "model.fit(X_train, y_train, batch_size = 1024, epochs = 20, validation_data=(X_valid, y_valid),verbose = True)"
      ],
      "execution_count": 0,
      "outputs": [
        {
          "output_type": "stream",
          "text": [
            "Train on 63998 samples, validate on 16000 samples\n",
            "Epoch 1/20\n",
            "63998/63998 [==============================] - 59s 928us/step - loss: 0.6209 - acc: 0.7847 - val_loss: 0.4827 - val_acc: 0.8274\n",
            "Epoch 2/20\n",
            "63998/63998 [==============================] - 57s 886us/step - loss: 0.4147 - acc: 0.8499 - val_loss: 0.4506 - val_acc: 0.8396\n",
            "Epoch 3/20\n",
            "63998/63998 [==============================] - 57s 885us/step - loss: 0.3506 - acc: 0.8706 - val_loss: 0.4417 - val_acc: 0.8417\n",
            "Epoch 4/20\n",
            "63998/63998 [==============================] - 56s 883us/step - loss: 0.2997 - acc: 0.8903 - val_loss: 0.4299 - val_acc: 0.8471\n",
            "Epoch 5/20\n",
            "63998/63998 [==============================] - 57s 886us/step - loss: 0.2530 - acc: 0.9096 - val_loss: 0.4634 - val_acc: 0.8479\n",
            "Epoch 6/20\n",
            "63998/63998 [==============================] - 57s 884us/step - loss: 0.2195 - acc: 0.9228 - val_loss: 0.4981 - val_acc: 0.8289\n",
            "Epoch 7/20\n",
            "63998/63998 [==============================] - 57s 883us/step - loss: 0.1922 - acc: 0.9351 - val_loss: 0.5061 - val_acc: 0.8442\n",
            "Epoch 8/20\n",
            "63998/63998 [==============================] - 56s 882us/step - loss: 0.1680 - acc: 0.9439 - val_loss: 0.5564 - val_acc: 0.8319\n",
            "Epoch 9/20\n",
            "63998/63998 [==============================] - 57s 883us/step - loss: 0.1500 - acc: 0.9502 - val_loss: 0.5755 - val_acc: 0.8480\n",
            "Epoch 10/20\n",
            "63998/63998 [==============================] - 57s 884us/step - loss: 0.1343 - acc: 0.9561 - val_loss: 0.5827 - val_acc: 0.8414\n",
            "Epoch 11/20\n",
            "63998/63998 [==============================] - 56s 881us/step - loss: 0.1217 - acc: 0.9605 - val_loss: 0.5968 - val_acc: 0.8354\n",
            "Epoch 12/20\n",
            "63998/63998 [==============================] - 56s 880us/step - loss: 0.1080 - acc: 0.9654 - val_loss: 0.6181 - val_acc: 0.8336\n",
            "Epoch 13/20\n",
            "63998/63998 [==============================] - 57s 887us/step - loss: 0.1007 - acc: 0.9687 - val_loss: 0.6721 - val_acc: 0.8336\n",
            "Epoch 14/20\n",
            "63998/63998 [==============================] - 57s 884us/step - loss: 0.0932 - acc: 0.9709 - val_loss: 0.6792 - val_acc: 0.8318\n",
            "Epoch 15/20\n",
            "63998/63998 [==============================] - 57s 887us/step - loss: 0.0857 - acc: 0.9730 - val_loss: 0.7081 - val_acc: 0.8335\n",
            "Epoch 16/20\n",
            "63998/63998 [==============================] - 57s 889us/step - loss: 0.0800 - acc: 0.9750 - val_loss: 0.7158 - val_acc: 0.8312\n",
            "Epoch 17/20\n",
            "63998/63998 [==============================] - 57s 885us/step - loss: 0.0775 - acc: 0.9758 - val_loss: 0.7462 - val_acc: 0.8351\n",
            "Epoch 18/20\n",
            "63998/63998 [==============================] - 57s 888us/step - loss: 0.0711 - acc: 0.9779 - val_loss: 0.7476 - val_acc: 0.8314\n",
            "Epoch 19/20\n",
            "63998/63998 [==============================] - 57s 885us/step - loss: 0.0663 - acc: 0.9793 - val_loss: 0.7800 - val_acc: 0.8339\n",
            "Epoch 20/20\n",
            "63998/63998 [==============================] - 57s 885us/step - loss: 0.0622 - acc: 0.9807 - val_loss: 0.8032 - val_acc: 0.8325\n"
          ],
          "name": "stdout"
        },
        {
          "output_type": "execute_result",
          "data": {
            "text/plain": [
              "<keras.callbacks.History at 0x7f377dcaf978>"
            ]
          },
          "metadata": {
            "tags": []
          },
          "execution_count": 48
        }
      ]
    },
    {
      "cell_type": "code",
      "metadata": {
        "id": "_HKpLJJUXD2U",
        "colab_type": "code",
        "colab": {}
      },
      "source": [
        "output = model.predict(X_test, 1024)"
      ],
      "execution_count": 0,
      "outputs": []
    },
    {
      "cell_type": "code",
      "metadata": {
        "id": "z1Wo--KPXDwj",
        "colab_type": "code",
        "outputId": "d79ba11b-9eb2-4d05-e768-9a23d6aec328",
        "colab": {
          "base_uri": "https://localhost:8080/",
          "height": 34
        }
      },
      "source": [
        "output[0]"
      ],
      "execution_count": 0,
      "outputs": [
        {
          "output_type": "execute_result",
          "data": {
            "text/plain": [
              "array([0.00152049, 0.00171378, 0.99676573], dtype=float32)"
            ]
          },
          "metadata": {
            "tags": []
          },
          "execution_count": 57
        }
      ]
    },
    {
      "cell_type": "code",
      "metadata": {
        "id": "S9wfw5WtOWLW",
        "colab_type": "code",
        "outputId": "9d7dfd72-8a33-4196-9dd8-fd858e88cb63",
        "colab": {
          "base_uri": "https://localhost:8080/",
          "height": 34
        }
      },
      "source": [
        "output.shape , y_test.shape"
      ],
      "execution_count": 0,
      "outputs": [
        {
          "output_type": "execute_result",
          "data": {
            "text/plain": [
              "((60000,), (20000, 3))"
            ]
          },
          "metadata": {
            "tags": []
          },
          "execution_count": 52
        }
      ]
    },
    {
      "cell_type": "code",
      "metadata": {
        "id": "VYuQFyx-LYlO",
        "colab_type": "code",
        "outputId": "02d51bb5-9f0b-4357-ff1a-c5d16c2664e9",
        "colab": {
          "base_uri": "https://localhost:8080/",
          "height": 34
        }
      },
      "source": [
        "from sklearn import metrics\n",
        "print(metrics.accuracy_score(y_test.argmax(axis=1), output.argmax(axis=1)))"
      ],
      "execution_count": 0,
      "outputs": [
        {
          "output_type": "stream",
          "text": [
            "0.83405\n"
          ],
          "name": "stdout"
        }
      ]
    },
    {
      "cell_type": "code",
      "metadata": {
        "id": "jjB9s_LgSzXh",
        "colab_type": "code",
        "outputId": "233d2b62-5b79-4e5c-ee0b-17ce349a9454",
        "colab": {
          "base_uri": "https://localhost:8080/",
          "height": 34
        }
      },
      "source": [
        "y_test[0], output.argmax(axis=1)"
      ],
      "execution_count": 0,
      "outputs": [
        {
          "output_type": "execute_result",
          "data": {
            "text/plain": [
              "(array([0., 0., 1.], dtype=float32), array([2, 2, 2, ..., 2, 1, 2]))"
            ]
          },
          "metadata": {
            "tags": []
          },
          "execution_count": 61
        }
      ]
    },
    {
      "cell_type": "code",
      "metadata": {
        "id": "9MrYmk1tR20_",
        "colab_type": "code",
        "colab": {}
      },
      "source": [
        "confusion = metrics.confusion_matrix(y_test.argmax(axis=1), output.argmax(axis=1))"
      ],
      "execution_count": 0,
      "outputs": []
    },
    {
      "cell_type": "code",
      "metadata": {
        "id": "v_-i1dFwTCp2",
        "colab_type": "code",
        "outputId": "aa2bc360-1225-457d-8568-b3b263b952a6",
        "colab": {
          "base_uri": "https://localhost:8080/",
          "height": 69
        }
      },
      "source": [
        "confusion"
      ],
      "execution_count": 0,
      "outputs": [
        {
          "output_type": "execute_result",
          "data": {
            "text/plain": [
              "array([[ 1909,   308,   731],\n",
              "       [  350,   537,   753],\n",
              "       [  631,   546, 14235]])"
            ]
          },
          "metadata": {
            "tags": []
          },
          "execution_count": 63
        }
      ]
    }
  ]
}